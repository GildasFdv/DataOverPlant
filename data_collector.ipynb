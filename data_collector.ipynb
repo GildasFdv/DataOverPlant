{
 "cells": [
  {
   "cell_type": "code",
   "execution_count": 1,
   "metadata": {},
   "outputs": [],
   "source": [
    "import pyvisa\n",
    "import pandas as pd\n",
    "import numpy as np\n",
    "import time\n"
   ]
  },
  {
   "cell_type": "code",
   "execution_count": 2,
   "metadata": {},
   "outputs": [],
   "source": [
    "\n",
    "rm = pyvisa.ResourceManager()\n",
    "resources = rm.list_resources()\n",
    "resource = resources[0]\n",
    "spectrum_analyzer_resource = rm.open_resource(resource)"
   ]
  },
  {
   "cell_type": "code",
   "execution_count": 3,
   "metadata": {},
   "outputs": [],
   "source": [
    "class SpectrumAnalyzer:\n",
    "    def __init__(self, spectrum_analyzer_resource):\n",
    "        self.spectrum_analyzer_resource = spectrum_analyzer_resource\n",
    "\n",
    "    def get_id(self) -> str:\n",
    "        return self.format_response(self.spectrum_analyzer_resource.query('*IDN?'))\n",
    "    \n",
    "    def set_center_frequency(self, frequency : float):\n",
    "        self.ensure_range(0, 7.5e9, frequency)\n",
    "        self.spectrum_analyzer_resource.write(f'SENSe:FREQuency:CENTer {frequency}')\n",
    "    \n",
    "    def get_center_frequency(self) -> float:\n",
    "        return float(self.format_response(self.spectrum_analyzer_resource.query('SENSe:FREQuency:CENTer?')))\n",
    "    \n",
    "    def set_start_frequency(self, frequency : float):\n",
    "        self.ensure_range(0, 7.5e9, frequency)\n",
    "        self.spectrum_analyzer_resource.write(f'SENSe:FREQuency:STARt {frequency}')\n",
    "    \n",
    "    def get_start_frequency(self) -> float:\n",
    "        return float(self.format_response(self.spectrum_analyzer_resource.query('SENSe:FREQuency:STARt?')))\n",
    "    \n",
    "    def set_stop_frequency(self, frequency : float):\n",
    "        self.ensure_range(0, 7.5e9, frequency)\n",
    "        self.spectrum_analyzer_resource.write(f'SENSe:FREQuency:STOP {frequency}')\n",
    "\n",
    "    def get_stop_frequency(self) -> float:\n",
    "        return float(self.format_response(self.spectrum_analyzer_resource.query('SENSe:FREQuency:STOP?')))\n",
    "    \n",
    "    def set_span(self, span : float):\n",
    "        self.ensure_range(0, 7.5e9, span)\n",
    "        self.spectrum_analyzer_resource.write(f'SENSe:FREQuency:SPAN {span}')\n",
    "\n",
    "    def get_span(self) -> float:\n",
    "        return float(self.format_response(self.spectrum_analyzer_resource.query('SENSe:FREQuency:SPAN?')))\n",
    "\n",
    "    def enable_tracking_generator(self):\n",
    "        self.spectrum_analyzer_resource.write('OUTPut:STATe ON')\n",
    "\n",
    "    def disable_tracking_generator(self):\n",
    "        self.spectrum_analyzer_resource.write('OUTPut:STATe OFF')\n",
    "\n",
    "    def is_tracking_generator_enable(self)-> bool:\n",
    "        return self.format_response(self.spectrum_analyzer_resource.query('OUTPut:STATe?')) == '1'\n",
    "    \n",
    "    def set_tracking_generator_offset(self, level: int):\n",
    "        self.ensure_range(-200, 200, level)\n",
    "        self.spectrum_analyzer_resource.write(f'SOURce:CORRection:OFFSet {level}')\n",
    "\n",
    "    def get_tracking_generator_offset(self) -> float:\n",
    "        return float(self.format_response(self.spectrum_analyzer_resource.query('SOURce:CORRection:OFFSet?')))\n",
    "    \n",
    "    def set_tracking_generator_level(self, level: int):\n",
    "        self.ensure_range(-40, 0, level)\n",
    "        self.spectrum_analyzer_resource.write(f'SOURce:POWer:LEVel:IMMediate:AMPLitude {level}')\n",
    "\n",
    "    def get_tracking_generator_level(self) -> float:\n",
    "        return float(self.format_response(self.spectrum_analyzer_resource.query('SOURce:POWer:LEVel:IMMediate:AMPLitude?')))\n",
    "\n",
    "    def get_harmonics_frequency(self) -> np.array:\n",
    "        return self.format_response(self.spectrum_analyzer_resource.query(':READ:HARMonics:FREQuency:ALL?'))\n",
    "    \n",
    "    def get_frequency_power(self, frequency) -> np.array:\n",
    "        self.set_center_frequency(frequency)\n",
    "        x = self.spectrum_analyzer_resource.query(\"TRACe:DATA? TRACE1\")\n",
    "        x = x.split(\" \", 1)[-1]\n",
    "        x = x.split(\",\")\n",
    "        x = [float(a) for a in x]\n",
    "        x = np.array(x)\n",
    "        return np.median(x)\n",
    "    \n",
    "    def ensure_range(self, min, max, value):\n",
    "        if value < min and value > max:\n",
    "            raise ValueError(f'Value must be between {min} and {max}')\n",
    "    \n",
    "    def format_response(self, response):\n",
    "        return response.strip()\n"
   ]
  },
  {
   "cell_type": "code",
   "execution_count": 4,
   "metadata": {},
   "outputs": [],
   "source": [
    "spectrum_analyzer = SpectrumAnalyzer(spectrum_analyzer_resource)"
   ]
  },
  {
   "cell_type": "code",
   "execution_count": null,
   "metadata": {},
   "outputs": [],
   "source": [
    "data = []"
   ]
  },
  {
   "cell_type": "code",
   "execution_count": 6,
   "metadata": {},
   "outputs": [],
   "source": [
    "frequency = 100e3\n",
    "\n",
    "while frequency < 3.2e9:\n",
    "    gain = spectrum_analyzer.get_frequency_power(frequency)\n",
    "    data.append({\n",
    "        \"frequency\": frequency,\n",
    "        \"gain\": gain,\n",
    "        \"plant\": \"lilium\"\n",
    "    })\n",
    "    frequency = frequency + 10e6"
   ]
  },
  {
   "cell_type": "code",
   "execution_count": 7,
   "metadata": {},
   "outputs": [],
   "source": [
    "df = pd.DataFrame(data)\n",
    "df"
   ]
  },
  {
   "cell_type": "code",
   "execution_count": 21,
   "metadata": {},
   "outputs": [],
   "source": [
    "df.to_csv(\"./data/noise_16_01_2025.csv\")"
   ]
  }
 ],
 "metadata": {
  "kernelspec": {
   "display_name": "Python 3",
   "language": "python",
   "name": "python3"
  },
  "language_info": {
   "codemirror_mode": {
    "name": "ipython",
    "version": 3
   },
   "file_extension": ".py",
   "mimetype": "text/x-python",
   "name": "python",
   "nbconvert_exporter": "python",
   "pygments_lexer": "ipython3",
   "version": "3.12.0"
  }
 },
 "nbformat": 4,
 "nbformat_minor": 2
}
