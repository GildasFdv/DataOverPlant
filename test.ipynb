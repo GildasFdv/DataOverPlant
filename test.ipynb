{
 "cells": [
  {
   "cell_type": "code",
   "execution_count": 305,
   "metadata": {},
   "outputs": [],
   "source": [
    "import pyvisa\n",
    "import pandas as pd\n",
    "import numpy as np\n",
    "import time\n"
   ]
  },
  {
   "cell_type": "code",
   "execution_count": 306,
   "metadata": {},
   "outputs": [],
   "source": [
    "\n",
    "rm = pyvisa.ResourceManager()\n",
    "resources = rm.list_resources()\n",
    "resource = resources[0]\n",
    "spectrum_analyzer_resource = rm.open_resource(resource)"
   ]
  },
  {
   "cell_type": "code",
   "execution_count": 307,
   "metadata": {},
   "outputs": [],
   "source": [
    "class SpectrumAnalyzer:\n",
    "    def __init__(self, spectrum_analyzer_resource):\n",
    "        self.spectrum_analyzer_resource = spectrum_analyzer_resource\n",
    "\n",
    "    def get_id(self) -> str:\n",
    "        return self.format_response(self.spectrum_analyzer_resource.query('*IDN?'))\n",
    "    \n",
    "    def set_center_frequency(self, frequency : float):\n",
    "        self.ensure_range(0, 7.5e9, frequency)\n",
    "        self.spectrum_analyzer_resource.write(f'SENSe:FREQuency:CENTer {frequency}')\n",
    "    \n",
    "    def get_center_frequency(self) -> float:\n",
    "        return float(self.format_response(self.spectrum_analyzer_resource.query('SENSe:FREQuency:CENTer?')))\n",
    "    \n",
    "    def set_start_frequency(self, frequency : float):\n",
    "        self.ensure_range(0, 7.5e9, frequency)\n",
    "        self.spectrum_analyzer_resource.write(f'SENSe:FREQuency:STARt {frequency}')\n",
    "    \n",
    "    def get_start_frequency(self) -> float:\n",
    "        return float(self.format_response(self.spectrum_analyzer_resource.query('SENSe:FREQuency:STARt?')))\n",
    "    \n",
    "    def set_stop_frequency(self, frequency : float):\n",
    "        self.ensure_range(0, 7.5e9, frequency)\n",
    "        self.spectrum_analyzer_resource.write(f'SENSe:FREQuency:STOP {frequency}')\n",
    "\n",
    "    def get_stop_frequency(self) -> float:\n",
    "        return float(self.format_response(self.spectrum_analyzer_resource.query('SENSe:FREQuency:STOP?')))\n",
    "    \n",
    "    def set_span(self, span : float):\n",
    "        self.ensure_range(0, 7.5e9, span)\n",
    "        self.spectrum_analyzer_resource.write(f'SENSe:FREQuency:SPAN {span}')\n",
    "\n",
    "    def get_span(self) -> float:\n",
    "        return float(self.format_response(self.spectrum_analyzer_resource.query('SENSe:FREQuency:SPAN?')))\n",
    "\n",
    "    def enable_tracking_generator(self):\n",
    "        self.spectrum_analyzer_resource.write('OUTPut:STATe ON')\n",
    "\n",
    "    def disable_tracking_generator(self):\n",
    "        self.spectrum_analyzer_resource.write('OUTPut:STATe OFF')\n",
    "\n",
    "    def is_tracking_generator_enable(self)-> bool:\n",
    "        return self.format_response(self.spectrum_analyzer_resource.query('OUTPut:STATe?')) == '1'\n",
    "    \n",
    "    def set_tracking_generator_offset(self, level: int):\n",
    "        self.ensure_range(-200, 200, level)\n",
    "        self.spectrum_analyzer_resource.write(f'SOURce:CORRection:OFFSet {level}')\n",
    "\n",
    "    def get_tracking_generator_offset(self) -> float:\n",
    "        return float(self.format_response(self.spectrum_analyzer_resource.query('SOURce:CORRection:OFFSet?')))\n",
    "    \n",
    "    def set_tracking_generator_level(self, level: int):\n",
    "        self.ensure_range(-40, 0, level)\n",
    "        self.spectrum_analyzer_resource.write(f'SOURce:POWer:LEVel:IMMediate:AMPLitude {level}')\n",
    "\n",
    "    def get_tracking_generator_level(self) -> float:\n",
    "        return float(self.format_response(self.spectrum_analyzer_resource.query('SOURce:POWer:LEVel:IMMediate:AMPLitude?')))\n",
    "\n",
    "    def get_harmonics_frequency(self) -> np.array:\n",
    "        return self.format_response(self.spectrum_analyzer_resource.query(':READ:HARMonics:FREQuency:ALL?'))\n",
    "    \n",
    "    def get_frequency_power(self, frequency) -> np.array:\n",
    "        self.set_center_frequency(frequency)\n",
    "        x = self.spectrum_analyzer_resource.query(\"TRACe:DATA? TRACE1\")\n",
    "        x = x.split(\" \", 1)[-1]\n",
    "        x = x.split(\",\")\n",
    "        x = [float(a) for a in x]\n",
    "        x = np.array(x)\n",
    "        return np.median(x)\n",
    "    \n",
    "    def ensure_range(self, min, max, value):\n",
    "        if value < min and value > max:\n",
    "            raise ValueError(f'Value must be between {min} and {max}')\n",
    "    \n",
    "    def format_response(self, response):\n",
    "        return response.strip()\n"
   ]
  },
  {
   "cell_type": "code",
   "execution_count": 308,
   "metadata": {},
   "outputs": [],
   "source": [
    "spectrum_analyzer = SpectrumAnalyzer(spectrum_analyzer_resource)"
   ]
  },
  {
   "cell_type": "code",
   "execution_count": 309,
   "metadata": {},
   "outputs": [],
   "source": [
    "frequency = 100e6\n",
    "spectrum_analyzer.set_center_frequency(frequency)\n",
    "spectrum_analyzer.set_span(10e3)"
   ]
  },
  {
   "cell_type": "code",
   "execution_count": 310,
   "metadata": {},
   "outputs": [
    {
     "name": "stdout",
     "output_type": "stream",
     "text": [
      "99995000.0\n",
      "100005000.0\n"
     ]
    }
   ],
   "source": [
    "print(spectrum_analyzer.get_start_frequency())\n",
    "print(spectrum_analyzer.get_stop_frequency())"
   ]
  },
  {
   "cell_type": "code",
   "execution_count": 311,
   "metadata": {},
   "outputs": [],
   "source": [
    "frequency = 100e3\n",
    "\n",
    "data = []\n",
    "\n",
    "while frequency < 3.2e9:\n",
    "    gain = spectrum_analyzer.get_frequency_power(frequency)\n",
    "    data.append({\n",
    "        \"frequency\": frequency,\n",
    "        \"gain\": gain,\n",
    "        \"plant\": \"aloevera\"\n",
    "    })\n",
    "    frequency = frequency + 10e6"
   ]
  },
  {
   "cell_type": "code",
   "execution_count": 312,
   "metadata": {},
   "outputs": [],
   "source": [
    "df = pd.DataFrame(data)"
   ]
  },
  {
   "cell_type": "code",
   "execution_count": 313,
   "metadata": {},
   "outputs": [
    {
     "data": {
      "text/html": [
       "<div>\n",
       "<style scoped>\n",
       "    .dataframe tbody tr th:only-of-type {\n",
       "        vertical-align: middle;\n",
       "    }\n",
       "\n",
       "    .dataframe tbody tr th {\n",
       "        vertical-align: top;\n",
       "    }\n",
       "\n",
       "    .dataframe thead th {\n",
       "        text-align: right;\n",
       "    }\n",
       "</style>\n",
       "<table border=\"1\" class=\"dataframe\">\n",
       "  <thead>\n",
       "    <tr style=\"text-align: right;\">\n",
       "      <th></th>\n",
       "      <th>frequency</th>\n",
       "      <th>gain</th>\n",
       "      <th>plant</th>\n",
       "    </tr>\n",
       "  </thead>\n",
       "  <tbody>\n",
       "    <tr>\n",
       "      <th>0</th>\n",
       "      <td>1.000000e+05</td>\n",
       "      <td>-20.058640</td>\n",
       "      <td>aloevera</td>\n",
       "    </tr>\n",
       "    <tr>\n",
       "      <th>1</th>\n",
       "      <td>1.010000e+07</td>\n",
       "      <td>-3.011467</td>\n",
       "      <td>aloevera</td>\n",
       "    </tr>\n",
       "    <tr>\n",
       "      <th>2</th>\n",
       "      <td>2.010000e+07</td>\n",
       "      <td>-23.539290</td>\n",
       "      <td>aloevera</td>\n",
       "    </tr>\n",
       "    <tr>\n",
       "      <th>3</th>\n",
       "      <td>3.010000e+07</td>\n",
       "      <td>-23.207150</td>\n",
       "      <td>aloevera</td>\n",
       "    </tr>\n",
       "    <tr>\n",
       "      <th>4</th>\n",
       "      <td>4.010000e+07</td>\n",
       "      <td>-21.853660</td>\n",
       "      <td>aloevera</td>\n",
       "    </tr>\n",
       "    <tr>\n",
       "      <th>...</th>\n",
       "      <td>...</td>\n",
       "      <td>...</td>\n",
       "      <td>...</td>\n",
       "    </tr>\n",
       "    <tr>\n",
       "      <th>315</th>\n",
       "      <td>3.150100e+09</td>\n",
       "      <td>-56.264900</td>\n",
       "      <td>aloevera</td>\n",
       "    </tr>\n",
       "    <tr>\n",
       "      <th>316</th>\n",
       "      <td>3.160100e+09</td>\n",
       "      <td>-56.902230</td>\n",
       "      <td>aloevera</td>\n",
       "    </tr>\n",
       "    <tr>\n",
       "      <th>317</th>\n",
       "      <td>3.170100e+09</td>\n",
       "      <td>-56.565190</td>\n",
       "      <td>aloevera</td>\n",
       "    </tr>\n",
       "    <tr>\n",
       "      <th>318</th>\n",
       "      <td>3.180100e+09</td>\n",
       "      <td>-56.155400</td>\n",
       "      <td>aloevera</td>\n",
       "    </tr>\n",
       "    <tr>\n",
       "      <th>319</th>\n",
       "      <td>3.190100e+09</td>\n",
       "      <td>-55.737270</td>\n",
       "      <td>aloevera</td>\n",
       "    </tr>\n",
       "  </tbody>\n",
       "</table>\n",
       "<p>320 rows × 3 columns</p>\n",
       "</div>"
      ],
      "text/plain": [
       "        frequency       gain     plant\n",
       "0    1.000000e+05 -20.058640  aloevera\n",
       "1    1.010000e+07  -3.011467  aloevera\n",
       "2    2.010000e+07 -23.539290  aloevera\n",
       "3    3.010000e+07 -23.207150  aloevera\n",
       "4    4.010000e+07 -21.853660  aloevera\n",
       "..            ...        ...       ...\n",
       "315  3.150100e+09 -56.264900  aloevera\n",
       "316  3.160100e+09 -56.902230  aloevera\n",
       "317  3.170100e+09 -56.565190  aloevera\n",
       "318  3.180100e+09 -56.155400  aloevera\n",
       "319  3.190100e+09 -55.737270  aloevera\n",
       "\n",
       "[320 rows x 3 columns]"
      ]
     },
     "execution_count": 313,
     "metadata": {},
     "output_type": "execute_result"
    }
   ],
   "source": [
    "df"
   ]
  },
  {
   "cell_type": "code",
   "execution_count": 329,
   "metadata": {},
   "outputs": [],
   "source": [
    "frequency = 100e3\n",
    "\n",
    "while frequency < 3.2e9:\n",
    "    gain = spectrum_analyzer.get_frequency_power(frequency)\n",
    "    data.append({\n",
    "        \"frequency\": frequency,\n",
    "        \"gain\": gain,\n",
    "        \"plant\": \"suculante\",\n",
    "        \"distance_cm\": 6\n",
    "    })\n",
    "    frequency = frequency + 10e6"
   ]
  },
  {
   "cell_type": "code",
   "execution_count": 332,
   "metadata": {},
   "outputs": [],
   "source": [
    "df = pd.DataFrame(data)\n",
    "df.to_csv(\"data.csv\")"
   ]
  }
 ],
 "metadata": {
  "kernelspec": {
   "display_name": "Python 3",
   "language": "python",
   "name": "python3"
  },
  "language_info": {
   "codemirror_mode": {
    "name": "ipython",
    "version": 3
   },
   "file_extension": ".py",
   "mimetype": "text/x-python",
   "name": "python",
   "nbconvert_exporter": "python",
   "pygments_lexer": "ipython3",
   "version": "3.12.0"
  }
 },
 "nbformat": 4,
 "nbformat_minor": 2
}
